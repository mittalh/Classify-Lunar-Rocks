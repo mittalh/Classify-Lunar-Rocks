{
 "cells": [
  {
   "cell_type": "markdown",
   "metadata": {},
   "source": [
    "# Classification of Lunar Rocks "
   ]
  },
  {
   "cell_type": "markdown",
   "metadata": {},
   "source": [
    "In this notebook I have created my own model by adding some dropouts to reduce the overfitting and also I have changed some \n",
    "parameters of FC layers"
   ]
  },
  {
   "cell_type": "code",
   "execution_count": 2,
   "metadata": {},
   "outputs": [
    {
     "name": "stdout",
     "output_type": "stream",
     "text": [
      "Current dir: C:\\Users\\user\n"
     ]
    }
   ],
   "source": [
    "import os\n",
    "print(\"Current dir: \"+os.getcwd())\n",
    "import pandas as pd\n",
    "import numpy as np\n",
    "from keras.layers import Dense\n",
    "from keras.models import Model\n",
    "from keras import layers\n",
    "import keras\n",
    "from keras.models import load_model\n",
    "from keras.preprocessing import image\n",
    "from keras.preprocessing.image import ImageDataGenerator\n",
    "from sklearn.metrics import confusion_matrix\n",
    "import numpy as np\n",
    "import pandas as pd\n",
    "from keras.layers import Dropout,Conv2D,MaxPooling2D\n"
   ]
  },
  {
   "cell_type": "code",
   "execution_count": 12,
   "metadata": {},
   "outputs": [],
   "source": [
    "n_classes=2\n",
    "opt='sgd'\n",
    "in_layer = layers.Input((224,224,3))\n",
    "\n",
    "conv1 = layers.Conv2D(96, 11, strides=4, activation='relu')(in_layer)\n",
    "pool1 = layers.MaxPool2D(3, 2)(conv1)\n",
    "conv2 = layers.Conv2D(256, 5, strides=1, padding='same', activation='relu')(pool1)\n",
    "pool2 = layers.MaxPool2D(3, 2)(conv2)\n",
    "conv3 = layers.Conv2D(384, 3, strides=1, padding='same', activation='relu')(pool2)\n",
    "conv4 = layers.Conv2D(256, 3, strides=1, padding='same', activation='relu')(conv3)\n",
    "pool3 = layers.MaxPool2D(3, 2)(conv4)\n",
    "flattened = layers.Flatten()(pool3)\n",
    "dense1 = layers.Dense(4096, activation='relu')(flattened)\n",
    "drop1 = layers.Dropout(0.5)(dense1)\n",
    "dense2 = layers.Dense(4096, activation='relu')(drop1)\n",
    "drop2 = layers.Dropout(0.5)(dense2)\n",
    "preds = layers.Dense(n_classes, activation='softmax')(drop2)\n",
    "\n",
    "\n",
    "model=Model(inputs=in_layer,outputs=preds)                                  # new model's summary\n",
    "model.compile(loss=\"categorical_crossentropy\", optimizer=opt,metrics=[\"accuracy\"])"
   ]
  },
  {
   "cell_type": "markdown",
   "metadata": {},
   "source": [
    "I have customized a callback as it will stop the training once the validation accuracy reach to 99%"
   ]
  },
  {
   "cell_type": "code",
   "execution_count": 15,
   "metadata": {},
   "outputs": [
    {
     "name": "stdout",
     "output_type": "stream",
     "text": [
      "Found 11400 images belonging to 2 classes.\n",
      "Found 598 images belonging to 2 classes.\n"
     ]
    }
   ],
   "source": [
    "import os\n",
    "os.chdir(r'C:\\Users\\user\\Downloads\\Dataset\\Train Images')\n",
    "from keras.preprocessing.image import ImageDataGenerator\n",
    "from keras.models import load_model\n",
    "import tensorflow as tf\n",
    "class myCallback(tf.keras.callbacks.Callback):\n",
    "    def on_epoch_end(self,epoch,logs={}):\n",
    "        if(logs.get('val_accuracy')>0.9899):\n",
    "            print('cancelling since validation accuracy has been reached to 90%')\n",
    "            self.model.stop_training=True\n",
    "callbacks_3=myCallback()   \n",
    "os.chdir(r\"C:\\Users\\user\\Downloads\\Dataset\\Train Images\")\n",
    "path=os.getcwd()\n",
    "\n",
    "from keras.optimizers import sgd\n",
    "opt='sgd'\n",
    "model.compile(loss=\"categorical_crossentropy\", optimizer=sgd(lr=0.01),metrics=[\"accuracy\"])\n",
    "train_gen=ImageDataGenerator(rescale=1/255,rotation_range=40,width_shift_range=0.3,height_shift_range=0.2,shear_range=0.2,zoom_range=0.2\n",
    "                            ,fill_mode='nearest',validation_split=0.05)\n",
    "train_data=train_gen.flow_from_directory(path,target_size=(224,224),batch_size=10,subset='training')\n",
    "validation_data=train_gen.flow_from_directory(path,target_size=(224,224),batch_size=10,subset='validation')\n"
   ]
  },
  {
   "cell_type": "code",
   "execution_count": 16,
   "metadata": {},
   "outputs": [
    {
     "name": "stdout",
     "output_type": "stream",
     "text": [
      "Epoch 1/30\n",
      "1140/1140 [==============================] - 340s 298ms/step - loss: 0.3699 - accuracy: 0.8196 - val_loss: 0.0546 - val_accuracy: 0.9599\n",
      "Epoch 2/30\n",
      "1140/1140 [==============================] - 396s 347ms/step - loss: 0.1245 - accuracy: 0.9516 - val_loss: 3.2480e-05 - val_accuracy: 0.9231\n",
      "Epoch 3/30\n",
      "1140/1140 [==============================] - 342s 300ms/step - loss: 0.0834 - accuracy: 0.9694 - val_loss: 0.0413 - val_accuracy: 0.9916\n",
      "cancelling since validation accuracy has been reached to 90%\n"
     ]
    }
   ],
   "source": [
    "history=model.fit_generator(train_data,epochs=30,validation_data=validation_data,callbacks=[callbacks_3])\n"
   ]
  },
  {
   "cell_type": "markdown",
   "metadata": {},
   "source": [
    "Saving the Final prediction file on test data"
   ]
  },
  {
   "cell_type": "code",
   "execution_count": 18,
   "metadata": {},
   "outputs": [
    {
     "name": "stdout",
     "output_type": "stream",
     "text": [
      "[0.023849111050367355, 0.9882943034172058]\n",
      "7534\n",
      "(7534, 1, 2)\n",
      "(7534, 2)\n",
      "     0    1\n",
      "0  0.0  1.0\n",
      "1  0.0  1.0\n",
      "2  0.0  1.0\n",
      "3  0.0  1.0\n",
      "4  0.0  1.0\n",
      "Large-->0 small--1\n",
      "[1 1 1 1 1 1 1 1 1 1]\n",
      "         Image_File  Class\n",
      "0    lg 988 (1).png  Small\n",
      "1   lg 988 (10).png  Small\n",
      "2  lg 988 (100).png  Small\n",
      "3  lg 988 (101).png  Small\n",
      "4  lg 988 (102).png  Small\n"
     ]
    }
   ],
   "source": [
    "import pandas as pd\n",
    "import os\n",
    "print(model.evaluate_generator(validation_data))\n",
    "from keras.preprocessing import image\n",
    "import numpy as np\n",
    "os.chdir(r'C:\\Users\\user\\Downloads\\Dataset')\n",
    "test=pd.read_csv(\"test.csv\")\n",
    "test_images=test['Image_File'].to_list()\n",
    "y_pred=[]\n",
    "os.chdir(r\"C:\\Users\\user\\Downloads\\Dataset\\Test Images\")\n",
    "path=os.getcwd()\n",
    "for file in test_images:\n",
    "    path_file=os.path.join(path,file)\n",
    "    img=image.load_img(path_file,target_size=(224,224))\n",
    "    img=image.img_to_array(img)\n",
    "    img=np.expand_dims(img,axis=0)\n",
    "    y_pred.append(model.predict(img))\n",
    "print(len(y_pred))\n",
    "y_pred_1=np.array(y_pred)\n",
    "print(y_pred_1.shape)\n",
    "y_pred_1=y_pred_1.reshape(7534,2)\n",
    "y_df_1=pd.DataFrame(y_pred_1)\n",
    "print(y_df_1.shape)\n",
    "print(y_df_1.head())\n",
    "print(\"Large-->0 small--1\")\n",
    "y_1=y_pred_1.argmax(axis=1)\n",
    "print(y_1[:10])\n",
    "y_1=pd.DataFrame(y_1)\n",
    "submission_1=pd.concat([test,y_1],axis=1)\n",
    "submission_1.drop(['Class'],axis=1,inplace=True)\n",
    "submission_1.columns=['Image_File','Class']\n",
    "submission_1.replace({0:'Large',1:'Small'},inplace=True)\n",
    "print(submission_1.head())\n",
    "os.chdir(r\"C:\\Users\\user\\Downloads\\Dataset\\Train Images\")\n",
    "submission_1.to_csv(\"Lunar10.csv\",index=False)"
   ]
  },
  {
   "cell_type": "markdown",
   "metadata": {},
   "source": [
    "# Plotting a confusion Matrix on training data"
   ]
  },
  {
   "cell_type": "code",
   "execution_count": 19,
   "metadata": {},
   "outputs": [],
   "source": [
    "os.chdir(r\"C:\\Users\\user\\Downloads\\DataSet\")\n",
    "path=os.getcwd()\n",
    "train=pd.read_csv(\"train.csv\")\n",
    "train_images=train['Image_File'].to_list()\n",
    "    \n",
    "y_pred=[]\n",
    "for file in train_images:\n",
    "    path_file=os.path.join(r\"C:\\Users\\user\\Downloads\\DataSet\\TI\",file)\n",
    "    img=image.load_img(path_file,target_size=(224,224))\n",
    "    img=image.img_to_array(img)\n",
    "    img=np.expand_dims(img,axis=0)\n",
    "    y_pred.append(model.predict(img))\n",
    "y_pred_np=np.array(y_pred)\n",
    "y_pred_np=y_pred_np.reshape(11998,2)\n",
    "y_pred_final=y_pred_np.argmax(axis=1)\n",
    "train_labels=train['Class']\n",
    "train_labels.replace({'Large':0,'Small':1},inplace=True)\n",
    "y=np.array(train_labels)"
   ]
  },
  {
   "cell_type": "code",
   "execution_count": 21,
   "metadata": {},
   "outputs": [
    {
     "data": {
      "text/plain": [
       "<matplotlib.axes._subplots.AxesSubplot at 0x187fb4ffdd8>"
      ]
     },
     "execution_count": 21,
     "metadata": {},
     "output_type": "execute_result"
    },
    {
     "data": {
      "image/png": "[encoded data removed]",
      "text/plain": [
       "<Figure size 288x288 with 2 Axes>"
      ]
     },
     "metadata": {
      "needs_background": "light"
     },
     "output_type": "display_data"
    }
   ],
   "source": [
    "import scikitplot as skplt\n",
    "skplt.metrics.plot_confusion_matrix(y,y_pred_final,figsize=(4,4))"
   ]
  },
  {
   "cell_type": "markdown",
   "metadata": {},
   "source": [
    "# You can see that the results which are far better then MobileNet model(Check out the  :\n",
    "https://github.com/mittalh/Classify-Lunar-Rocks/blob/master/Training%20model%20using%20MobileNet.ipynb)"
   ]
  }
 ],
 "metadata": {
  "kernelspec": {
   "display_name": "Python 3",
   "language": "python",
   "name": "python3"
  },
  "language_info": {
   "codemirror_mode": {
    "name": "ipython",
    "version": 3
   },
   "file_extension": ".py",
   "mimetype": "text/x-python",
   "name": "python",
   "nbconvert_exporter": "python",
   "pygments_lexer": "ipython3",
   "version": "3.7.3"
  }
 },
 "nbformat": 4,
 "nbformat_minor": 2
}
